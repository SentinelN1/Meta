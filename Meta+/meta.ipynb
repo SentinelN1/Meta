{
 "cells": [
  {
   "cell_type": "code",
   "execution_count": 1,
   "metadata": {},
   "outputs": [],
   "source": [
    "import os\n",
    "import mysql.connector"
   ]
  },
  {
   "cell_type": "code",
   "execution_count": 2,
   "metadata": {},
   "outputs": [],
   "source": [
    "db = mysql.connector.connect(\n",
    "  host=\"localhost\",\n",
    "  user=\"root\",\n",
    "  password=\"735808\",\n",
    "  port=3306,\n",
    "  database=\"meta\"\n",
    ")"
   ]
  },
  {
   "cell_type": "code",
   "execution_count": 3,
   "metadata": {},
   "outputs": [],
   "source": [
    "def execute_sql(command):\n",
    "    cursor = db.cursor()\n",
    "    cursor.execute(command)\n",
    "    result = cursor.fetchall()\n",
    "    return result"
   ]
  },
  {
   "cell_type": "code",
   "execution_count": null,
   "metadata": {},
   "outputs": [],
   "source": [
    "def get_players(team_id):\n",
    "    return execute_sql(f\"SELECT * FROM players WHERE team_id = {team_id} ORDER BY position;\")"
   ]
  },
  {
   "cell_type": "code",
   "execution_count": 4,
   "metadata": {},
   "outputs": [
    {
     "data": {
      "text/plain": [
       "[('match_date', 'datetime', 'NO', '', 'now()', 'DEFAULT_GENERATED'),\n",
       " ('match_id', 'int', 'NO', 'PRI', None, ''),\n",
       " ('player_id', 'int', 'NO', 'PRI', None, ''),\n",
       " ('team_id', 'int', 'NO', 'MUL', None, ''),\n",
       " ('position', 'tinyint', 'YES', '', None, ''),\n",
       " ('opponent_team_id', 'int', 'NO', '', None, ''),\n",
       " ('performance', 'float', 'NO', '', None, '')]"
      ]
     },
     "execution_count": 4,
     "metadata": {},
     "output_type": "execute_result"
    }
   ],
   "source": [
    "execute_sql(\"DESCRIBE matches;\")"
   ]
  },
  {
   "cell_type": "code",
   "execution_count": 5,
   "metadata": {},
   "outputs": [],
   "source": [
    "import matplotlib.pyplot as plt\n",
    "import numpy as np"
   ]
  },
  {
   "cell_type": "code",
   "execution_count": 6,
   "metadata": {},
   "outputs": [],
   "source": [
    "def play_match(team_1_id, team_2_id):\n",
    "    if (team_1_id != team_2_id):\n",
    "        match_id = execute_sql(f\"SELECT MAX(match_id) FROM matches;\")[0][0]\n",
    "\n",
    "        if match_id is None:\n",
    "            match_id = 1\n",
    "        else:\n",
    "            match_id = match_id + 1\n",
    "\n",
    "        team_1 = execute_sql(f\"SELECT id FROM players WHERE team_id = {team_1_id} ORDER BY position;\")\n",
    "        team_2 = execute_sql(f\"SELECT id FROM players WHERE team_id = {team_2_id} ORDER BY position;\")\n",
    "\n",
    "        score_1 = np.random.rand(5)\n",
    "        score_2 = np.random.rand(5)\n",
    "\n",
    "        # team_1_result = 0\n",
    "        # team_2_result = 0\n",
    "\n",
    "        # if (np.sum(score_1) > np.sum(score_2)):\n",
    "        #     team_1_result = 1\n",
    "\n",
    "        # elif (np.sum(score_1) < np.sum(score_2)):\n",
    "        #     team_2_result = 1\n",
    "\n",
    "        # else:\n",
    "        #     team_1_result = 0.5\n",
    "        #     team_2_result = 0.5\n",
    "\n",
    "        for i in range(5):\n",
    "            execute_sql(f\"INSERT INTO matches (match_id, player_id, team_id, opponent_team_id, performance) VALUES({match_id}, {team_1[i][0]}, {team_1_id}, {team_2_id}, {score_1[i]});\")\n",
    "            execute_sql(f\"INSERT INTO matches (match_id, player_id, team_id, opponent_team_id, performance) VALUES({match_id}, {team_2[i][0]}, {team_2_id}, {team_1_id}, {score_2[i]});\")\n",
    "\n"
   ]
  },
  {
   "cell_type": "code",
   "execution_count": 13,
   "metadata": {},
   "outputs": [],
   "source": [
    "play_match(14, 29)"
   ]
  },
  {
   "cell_type": "code",
   "execution_count": 14,
   "metadata": {},
   "outputs": [
    {
     "data": {
      "text/plain": [
       "[(datetime.datetime(2023, 11, 19, 3, 21, 4), 1, 41, 7, 2, 14, 40.0),\n",
       " (datetime.datetime(2023, 11, 19, 3, 21, 4), 1, 51, 14, 1, 7, 87.0),\n",
       " (datetime.datetime(2023, 11, 19, 3, 21, 4), 1, 55, 7, 3, 14, 23.0),\n",
       " (datetime.datetime(2023, 11, 19, 3, 21, 4), 1, 101, 14, 2, 7, 14.0),\n",
       " (datetime.datetime(2023, 11, 19, 3, 21, 4), 1, 149, 14, 4, 7, 39.0),\n",
       " (datetime.datetime(2023, 11, 19, 3, 21, 4), 1, 205, 14, 5, 7, 39.0),\n",
       " (datetime.datetime(2023, 11, 19, 3, 21, 4), 1, 218, 7, 5, 14, 13.0),\n",
       " (datetime.datetime(2023, 11, 19, 3, 21, 4), 1, 264, 14, 3, 7, 40.0),\n",
       " (datetime.datetime(2023, 11, 19, 3, 21, 4), 1, 304, 7, 1, 14, 6.0),\n",
       " (datetime.datetime(2023, 11, 19, 3, 21, 4), 1, 347, 7, 4, 14, 26.0),\n",
       " (datetime.datetime(2024, 3, 1, 1, 29, 45), 2, 51, 14, None, 29, 0.552885),\n",
       " (datetime.datetime(2024, 3, 1, 1, 29, 46), 2, 57, 29, None, 14, 0.37621),\n",
       " (datetime.datetime(2024, 3, 1, 1, 29, 46), 2, 101, 14, None, 29, 0.566556),\n",
       " (datetime.datetime(2024, 3, 1, 1, 29, 46), 2, 102, 29, None, 14, 0.366731),\n",
       " (datetime.datetime(2024, 3, 1, 1, 29, 46), 2, 149, 14, None, 29, 0.581575),\n",
       " (datetime.datetime(2024, 3, 1, 1, 29, 46), 2, 163, 29, None, 14, 0.78236),\n",
       " (datetime.datetime(2024, 3, 1, 1, 29, 46), 2, 205, 14, None, 29, 0.765286),\n",
       " (datetime.datetime(2024, 3, 1, 1, 29, 46), 2, 225, 29, None, 14, 0.996399),\n",
       " (datetime.datetime(2024, 3, 1, 1, 29, 46), 2, 264, 14, None, 29, 0.362748),\n",
       " (datetime.datetime(2024, 3, 1, 1, 29, 46), 2, 618, 29, None, 14, 0.80094),\n",
       " (datetime.datetime(2024, 3, 1, 1, 29, 57), 3, 51, 14, None, 29, 0.442795),\n",
       " (datetime.datetime(2024, 3, 1, 1, 29, 57), 3, 57, 29, None, 14, 0.24758),\n",
       " (datetime.datetime(2024, 3, 1, 1, 29, 57), 3, 101, 14, None, 29, 0.900731),\n",
       " (datetime.datetime(2024, 3, 1, 1, 29, 57), 3, 102, 29, None, 14, 0.653474),\n",
       " (datetime.datetime(2024, 3, 1, 1, 29, 57), 3, 149, 14, None, 29, 0.308478),\n",
       " (datetime.datetime(2024, 3, 1, 1, 29, 57), 3, 163, 29, None, 14, 0.511079),\n",
       " (datetime.datetime(2024, 3, 1, 1, 29, 57), 3, 205, 14, None, 29, 0.00773251),\n",
       " (datetime.datetime(2024, 3, 1, 1, 29, 57), 3, 225, 29, None, 14, 0.380974),\n",
       " (datetime.datetime(2024, 3, 1, 1, 29, 57), 3, 264, 14, None, 29, 0.412516),\n",
       " (datetime.datetime(2024, 3, 1, 1, 29, 57), 3, 618, 29, None, 14, 0.985578),\n",
       " (datetime.datetime(2024, 3, 1, 1, 30, 2), 4, 51, 14, None, 29, 0.385348),\n",
       " (datetime.datetime(2024, 3, 1, 1, 30, 2), 4, 57, 29, None, 14, 0.811449),\n",
       " (datetime.datetime(2024, 3, 1, 1, 30, 2), 4, 101, 14, None, 29, 0.702521),\n",
       " (datetime.datetime(2024, 3, 1, 1, 30, 2), 4, 102, 29, None, 14, 0.562695),\n",
       " (datetime.datetime(2024, 3, 1, 1, 30, 2), 4, 149, 14, None, 29, 0.640499),\n",
       " (datetime.datetime(2024, 3, 1, 1, 30, 2), 4, 163, 29, None, 14, 0.752859),\n",
       " (datetime.datetime(2024, 3, 1, 1, 30, 2), 4, 205, 14, None, 29, 0.0498051),\n",
       " (datetime.datetime(2024, 3, 1, 1, 30, 2), 4, 225, 29, None, 14, 0.233367),\n",
       " (datetime.datetime(2024, 3, 1, 1, 30, 2), 4, 264, 14, None, 29, 0.480984),\n",
       " (datetime.datetime(2024, 3, 1, 1, 30, 2), 4, 618, 29, None, 14, 0.590969)]"
      ]
     },
     "execution_count": 14,
     "metadata": {},
     "output_type": "execute_result"
    }
   ],
   "source": [
    "execute_sql(\"SELECT * FROM matches;\")"
   ]
  },
  {
   "cell_type": "code",
   "execution_count": null,
   "metadata": {},
   "outputs": [],
   "source": []
  }
 ],
 "metadata": {
  "kernelspec": {
   "display_name": ".venv",
   "language": "python",
   "name": "python3"
  },
  "language_info": {
   "codemirror_mode": {
    "name": "ipython",
    "version": 3
   },
   "file_extension": ".py",
   "mimetype": "text/x-python",
   "name": "python",
   "nbconvert_exporter": "python",
   "pygments_lexer": "ipython3",
   "version": "3.11.3"
  }
 },
 "nbformat": 4,
 "nbformat_minor": 2
}
